{
  "nbformat": 4,
  "nbformat_minor": 0,
  "metadata": {
    "colab": {
      "provenance": []
    },
    "kernelspec": {
      "name": "python3",
      "display_name": "Python 3"
    },
    "language_info": {
      "name": "python"
    }
  },
  "cells": [
    {
      "cell_type": "code",
      "source": [
        "import re\n",
        "from datetime import datetime\n",
        "\n",
        "def chatbot_response(user_input):\n",
        "    user_input = user_input.lower()\n",
        "\n",
        "    patterns = {\n",
        "        r\"hello|hi|hey|howdy\": \"Hello! How can I assist you today?\",\n",
        "        r\"what.*your name\": \"My name is 7exbot. How can I help you?\",\n",
        "        r\"how are you|how you doing\": \"I'm just a bot, but I'm here to help you!\",\n",
        "        r\"what.*time\": f\"The current time is {datetime.now().strftime('%H:%M')}.\",\n",
        "        r\"what.*date\": f\"Today's date is {datetime.now().strftime('%Y-%m-%d')}.\",\n",
        "        r\"who built you\": \"my creator is Mr.Hamza a CS student\",\n",
        "        r\"how.*weather\": \"Why don't you stick your head out the window!!\",\n",
        "        r\"tell.*joke\": \"Why did the computer go to the doctor? Because it had a virus!\",\n",
        "        r\"artificial intelligence\": \"Artificial intelligence is the simulation of human intelligence processes by machines, especially computer systems.\",\n",
        "        r\"bye|goodbye\": \"Goodbye! Have a great day!\",\n",
        "    }\n",
        "\n",
        "    for pattern, response in patterns.items():\n",
        "        if re.search(pattern, user_input):\n",
        "            return response\n",
        "\n",
        "    return \"I'm sorry, I didn't understand that. Could you please rephrase or ask something else?\"\n",
        "\n",
        "while True:\n",
        "    user_input = input(\"You: \")\n",
        "    if user_input.lower() in ['exit', 'quit', 'goodbye', 'bye']:\n",
        "        print(\"Bot: Goodbye! Have a great day!\")\n",
        "        break\n",
        "    response = chatbot_response(user_input)\n",
        "    print(\"Bot:\", response)"
      ],
      "metadata": {
        "colab": {
          "base_uri": "https://localhost:8080/"
        },
        "id": "2UPYydoM8pyg",
        "outputId": "06e39586-bfd0-43ea-df05-0334e9802c32"
      },
      "execution_count": 1,
      "outputs": [
        {
          "output_type": "stream",
          "name": "stdout",
          "text": [
            "You: hi\n",
            "Bot: Hello! How can I assist you today?\n",
            "You: what is your name\n",
            "Bot: My name is 7exbot. How can I help you?\n",
            "You: how are you\n",
            "Bot: I'm just a bot, but I'm here to help you!\n",
            "You: what time is it\n",
            "Bot: The current time is 18:53.\n",
            "You: what date is it\n",
            "Bot: Today's date is 2023-11-15.\n",
            "You: who built you\n",
            "Bot: my creator is Mr.Hamza a CS student\n",
            "You: how is the weather\n",
            "Bot: Why don't you stick your head out the window!!\n",
            "You: tell a joke\n",
            "Bot: Why did the computer go to the doctor? Because it had a virus!\n",
            "You: artificial intelligence \n",
            "Bot: Artificial intelligence is the simulation of human intelligence processes by machines, especially computer systems.\n",
            "You: bye\n",
            "Bot: Goodbye! Have a great day!\n"
          ]
        }
      ]
    }
  ]
}